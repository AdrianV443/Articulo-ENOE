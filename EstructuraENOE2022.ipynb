{
 "cells": [
  {
   "cell_type": "markdown",
   "id": "8586f830-08d0-4dd5-aa80-026757469b1a",
   "metadata": {},
   "source": [
    "# Manejo de la ENOE\n",
    "## Carga y transformación de datos"
   ]
  },
  {
   "cell_type": "code",
   "execution_count": 1,
   "id": "5fbc81e6-b068-4bfe-90fe-c77ced9b7fb1",
   "metadata": {
    "tags": []
   },
   "outputs": [],
   "source": [
    "# Librerías para lectura y transformación de datos\n",
    "import pandas as pd\n",
    "import pyreadstat\n",
    "import numpy as np\n",
    "import warnings\n",
    "warnings.filterwarnings('ignore')"
   ]
  },
  {
   "cell_type": "code",
   "execution_count": 2,
   "id": "5ab62597-3303-4997-9c03-826550a1129f",
   "metadata": {},
   "outputs": [],
   "source": [
    "# Se leen los datos con el etiquedado provisto por INEGI\n",
    "carpeta = \"C:\\\\Users\\\\Usuario\\\\Desktop\\\\Artículo\\\\ENOE\\\\enoen nuevo\\\\\"\n",
    "# COE1\n",
    "coe1t422, meta = pyreadstat.read_dta(carpeta + \"ENOEN_COE1T422.dta\")\n",
    "# COE2\n",
    "coe2t422, meta = pyreadstat.read_dta(carpeta + \"ENOEN_COE2T422.dta\")\n",
    "# HOG\n",
    "hogt422, meta = pyreadstat.read_dta(carpeta + \"ENOEN_HOGT422.dta\")\n",
    "# SDEM\n",
    "sdemt422, meta = pyreadstat.read_dta(carpeta + \"ENOEN_SDEMT422.dta\")\n",
    "# VIV\n",
    "vivt422, meta = pyreadstat.read_dta(carpeta + \"ENOEN_VIVT422.dta\")"
   ]
  },
  {
   "cell_type": "code",
   "execution_count": 4,
   "id": "0ac0b465",
   "metadata": {
    "tags": []
   },
   "outputs": [],
   "source": [
    "# Estas líneas permitían cambiar los datos de las columnas con la información de cada categoría pero presentan errores y no está bien codificado\n",
    "\n",
    "# Corregir nombres de las categorías\n",
    "# duplicated_categories = ['Complemento urbano- Rural']\n",
    "\n",
    "# # Realiza las correcciones\n",
    "# for category in duplicated_categories:\n",
    "#     corrected_category = category.replace(' ', '')  # Elimina el espacio adicional\n",
    "#     vivt422['cd_a'] = vivt422['cd_a'].cat.rename_categories({category: corrected_category})"
   ]
  },
  {
   "cell_type": "code",
   "execution_count": 3,
   "id": "7e7e4132-d884-4beb-8f4c-60c9d4d4e57b",
   "metadata": {},
   "outputs": [],
   "source": [
    "# Seleccionando identificadores de acuerdo al INEGI\n",
    "# Son indicadores que se encuentran en todos los archivos anteriores coe1, coe2, etc.\n",
    "# Se utilizan para hacer match en cada caso y crear una sola tabla a partir de las 5 dadas \n",
    "idvivienda = ['cd_a','ent', 'con', \"v_sel\"]\n",
    "idhogar = ['cd_a','ent', 'con', \"v_sel\", \"n_hog\", \"h_mud\"]\n",
    "idpersona = [\"cd_a\",\"ent\", \"con\", \"v_sel\", \"n_hog\", \"h_mud\", \"n_ren\"]"
   ]
  },
  {
   "cell_type": "code",
   "execution_count": 4,
   "id": "7dea016d-07ca-4c79-829d-234a6184580a",
   "metadata": {},
   "outputs": [],
   "source": [
    "# Primer merge\n",
    "# Merge de tablas coet1 y coet2\n",
    "coet422 = pd.merge(coe1t422, coe2t422, on= idpersona)\n",
    "# \"coet422\" contiene todas las columnas de ambos dataframes \"coe1t422\" y \"coe2t422\" y todas las filas donde 'idpersona' tenía valores coincidentes en ambos dataframes"
   ]
  },
  {
   "cell_type": "code",
   "execution_count": 5,
   "id": "afe00568-3be1-436d-b6f5-a539a5e17869",
   "metadata": {},
   "outputs": [
    {
     "data": {
      "text/plain": [
       "Index(['r_def', 'cd_a', 'ent', 'con', 'upm_x', 'd_sem_x', 'n_pro_viv_x',\n",
       "       'v_sel', 'n_hog', 'h_mud',\n",
       "       ...\n",
       "       'p9_h7', 'p9_m7', 'p9_8', 'p9_h8', 'p9_m8', 'ur_y', 'tipo_y',\n",
       "       'mes_cal_y', 'fac_tri_y', 'fac_men_y'],\n",
       "      dtype='object', length=247)"
      ]
     },
     "execution_count": 5,
     "metadata": {},
     "output_type": "execute_result"
    }
   ],
   "source": [
    "# Comprobación de columnas\n",
    "coet422.columns"
   ]
  },
  {
   "cell_type": "code",
   "execution_count": 7,
   "id": "9538b89b-e359-4f4a-a807-8e4beeef699a",
   "metadata": {},
   "outputs": [],
   "source": [
    "# Renombramos variables para identificar que ya hemos unido los datafrmaes \"coe1t422\" y \"coe2t422\"\n",
    "coet422 = coet422.rename(columns={'p1': 'p1coe', 'p3': 'p3coe'})"
   ]
  },
  {
   "cell_type": "code",
   "execution_count": 6,
   "id": "9f212885-82e5-4bbe-b1a6-fd5ff5f716ae",
   "metadata": {},
   "outputs": [
    {
     "name": "stdout",
     "output_type": "stream",
     "text": [
      "n_ent_y    1.0    2.0    3.0    4.0    5.0\n",
      "n_ent_x                                   \n",
      "1.0      65103      0      0      0      0\n",
      "2.0          0  64334      0      0      0\n",
      "3.0          0      0  65395      0      0\n",
      "4.0          0      0      0  64109      0\n",
      "5.0          0      0      0      0  63929\n"
     ]
    }
   ],
   "source": [
    "# La operación \"merge\" de pandas agrega sufijos como \"_x\" y \"_y\" a las columnas para evitar conflictos de nombres si ambas tablas que tienen una columna con el mismo nombre\n",
    "# Tabulado para revisar variables repetidas \n",
    "tabla = pd.crosstab(coet422['n_ent_x'], coet422['n_ent_y']) # 'n_ent' es el número de entrevista\n",
    "print(tabla)"
   ]
  },
  {
   "cell_type": "code",
   "execution_count": 7,
   "id": "5ef85144-a3f6-4b95-8192-d348f7b93318",
   "metadata": {},
   "outputs": [
    {
     "name": "stdout",
     "output_type": "stream",
     "text": [
      "(322870, 235)\n"
     ]
    }
   ],
   "source": [
    "# Hay más de dos columnas con el mismo nombre que tienen el sufijo \"_y\"\n",
    "# Se eliminan las variables que son iguales devolviendo sus valores originales\n",
    "# Elimina columnas que terminan con \"_y\"\n",
    "columnas_eliminar = [col for col in coet422.columns if col.endswith('_y')]\n",
    "coet422 = coet422.drop(columns = columnas_eliminar)\n",
    "# Cambia nombres de columnas que terminan con \"_x\"\n",
    "coet422 = coet422.rename(columns={col: col.split('_')[0] for col in coet422.columns if col.endswith('_x')})\n",
    "# Se imprime el tamaño del dataframe (filas, columnas)\n",
    "print(coet422.shape)"
   ]
  },
  {
   "cell_type": "code",
   "execution_count": 8,
   "id": "f1b6cd6e-0e40-4e26-8ee4-88f7a854fd7e",
   "metadata": {},
   "outputs": [
    {
     "name": "stdout",
     "output_type": "stream",
     "text": [
      "(322870, 342)\n"
     ]
    }
   ],
   "source": [
    "# fusionar la información de personas mayores de 12 años del COE con el reporte del cuestionario sociodemográfico\n",
    "# Se une sdemt422 con coet422\n",
    "sdemcoet422 = pd.merge(sdemt422, coet422, on=idpersona)\n",
    "print(sdemcoet422.shape)"
   ]
  },
  {
   "cell_type": "code",
   "execution_count": 9,
   "id": "7da299e7-d9ad-4706-a6b5-3655134b32e5",
   "metadata": {},
   "outputs": [
    {
     "name": "stdout",
     "output_type": "stream",
     "text": [
      "(322870, 336)\n"
     ]
    }
   ],
   "source": [
    "# Se repite la limpieza de columnas repetidas\n",
    "# Eliminación columnas que terminan con \"_y\"\n",
    "columnas_eliminar = [col for col in sdemcoet422.columns if col.endswith('_y')]\n",
    "sdemcoet422 = sdemcoet422.drop(columns = columnas_eliminar)\n",
    "# Cambia nombres de columnas que terminan con \"_x\"\n",
    "sdemcoet422 = sdemcoet422.rename(columns={col: col.split('_')[0] for col in sdemcoet422.columns if col.endswith('_x')})  \n",
    "print(sdemcoet422.shape)"
   ]
  },
  {
   "cell_type": "code",
   "execution_count": 10,
   "id": "b7d1fe19-a83f-42c9-becf-ec7f82e9b7e1",
   "metadata": {},
   "outputs": [
    {
     "name": "stdout",
     "output_type": "stream",
     "text": [
      "(133108, 57)\n"
     ]
    }
   ],
   "source": [
    "# fusionar la información de vivienda (vivt422) y hogar (hogt422). A una vivienda pueden corresponder varios hogares\n",
    "vivhogt422 = pd.merge(vivt422, hogt422, on=idvivienda)\n",
    "# Tamaño del dataframe\n",
    "print(vivhogt422.shape)"
   ]
  },
  {
   "cell_type": "code",
   "execution_count": 11,
   "id": "b389aef8-0df7-4494-8a33-4c98b6be6a77",
   "metadata": {},
   "outputs": [
    {
     "name": "stdout",
     "output_type": "stream",
     "text": [
      "(133108, 39)\n"
     ]
    }
   ],
   "source": [
    "# Limpieza de columnas repetidas\n",
    "# Elimina columnas que terminan con \"_y\"\n",
    "columnas_eliminar = [col for col in vivhogt422.columns if col.endswith('_y')]\n",
    "vivhogt422 = vivhogt422.drop(columns = columnas_eliminar)\n",
    "# Cambia nombres de columnas que terminan con \"_x\"\n",
    "vivhogt422 = vivhogt422.rename(columns={col: col.split('_')[0] for col in vivhogt422.columns if col.endswith('_x')})  \n",
    "print(vivhogt422.shape)"
   ]
  },
  {
   "cell_type": "code",
   "execution_count": 12,
   "id": "04fa3d22-b0ea-4bbf-91f4-e3979fbd344e",
   "metadata": {},
   "outputs": [
    {
     "name": "stdout",
     "output_type": "stream",
     "text": [
      "(322870, 369)\n"
     ]
    }
   ],
   "source": [
    "# Se unen los utlimos dos dataframes creados para conformar uno solo \"completat422\"\n",
    "completat422 = pd.merge(vivhogt422, sdemcoet422, on= idhogar)\n",
    "print(completat422.shape)"
   ]
  },
  {
   "cell_type": "code",
   "execution_count": 13,
   "id": "cf277f7a-2d94-470c-9895-f0bfebd2b080",
   "metadata": {},
   "outputs": [
    {
     "name": "stdout",
     "output_type": "stream",
     "text": [
      "(322870, 350)\n"
     ]
    }
   ],
   "source": [
    "# Elimina columnas que terminan con \"_y\"\n",
    "columnas_eliminar = [col for col in completat422.columns if col.endswith('_y')]\n",
    "completat422 = completat422.drop(columns = columnas_eliminar)\n",
    "# Cambia nombres de columnas que terminan con \"_x\"\n",
    "completat422 = completat422.rename(columns={col: col.split('_')[0] for col in completat422.columns if col.endswith('_x')})  \n",
    "print(completat422.shape)"
   ]
  },
  {
   "cell_type": "code",
   "execution_count": 14,
   "id": "c069e852-9146-459f-980c-ef70eccb99a2",
   "metadata": {},
   "outputs": [],
   "source": [
    "completat422 = completat422.drop(completat422[(completat422['r_def'] != 0) | (completat422['c_res'] == 2)].index)"
   ]
  },
  {
   "cell_type": "code",
   "execution_count": 15,
   "id": "e0ce7109",
   "metadata": {},
   "outputs": [
    {
     "name": "stdout",
     "output_type": "stream",
     "text": [
      "['est', 'est', 't', 'n', 'fac', 'p4', 'p4']\n"
     ]
    }
   ],
   "source": [
    "print(completat422.columns[completat422.columns.duplicated()].tolist())"
   ]
  },
  {
   "cell_type": "code",
   "execution_count": null,
   "id": "7e0e589c",
   "metadata": {},
   "outputs": [],
   "source": [
    "# Este código se usaba para convertir los nobres de estas columnas en categorías pero presenta errores, en cuanto lo corrija lo actualizo\n",
    "# completat422['sex','niv_ins','t_loc_men',\n",
    "#              'clase1','clase2','clase3',\n",
    "#              'rama', 'c_ocu11c',\n",
    "#              'ing7c','ingocup','ing_x_hrs',\n",
    "#              'fac','est_d_men','upm'] = completat422['sex', 'eda','niv_ins', 't_loc_men',\n",
    "#                                                      'clase1','clase2','clase3','rama', \n",
    "#                                                      'c_ocu11c','ing7c','ingocup','ing_x_hrs',\n",
    "#                                                      'fac','est_d_men','upm'].astype('category')"
   ]
  },
  {
   "cell_type": "code",
   "execution_count": 16,
   "id": "4e11002e-3018-4f1c-8ada-0d1585a4accc",
   "metadata": {
    "scrolled": true,
    "tags": []
   },
   "outputs": [
    {
     "data": {
      "text/plain": [
       "['loc',\n",
       " 'mun',\n",
       " 'est',\n",
       " 'est',\n",
       " 'est',\n",
       " 'ageb',\n",
       " 't',\n",
       " 't',\n",
       " 'cd_a',\n",
       " 'ent',\n",
       " 'con',\n",
       " 'upm',\n",
       " 'd',\n",
       " 'n',\n",
       " 'v_sel',\n",
       " 'n',\n",
       " 'per',\n",
       " 'p1',\n",
       " 'p2',\n",
       " 'p3',\n",
       " 'ur',\n",
       " 'tipo',\n",
       " 'mes',\n",
       " 'fac',\n",
       " 'fac',\n",
       " 'n_hog',\n",
       " 'h_mud',\n",
       " 'r_pre',\n",
       " 'p_dia',\n",
       " 'p_mes',\n",
       " 'p_anio',\n",
       " 'r_def',\n",
       " 'd_dia',\n",
       " 'd_mes',\n",
       " 'd_anio',\n",
       " 'e_obs',\n",
       " 'p4',\n",
       " 'p4',\n",
       " 'inf',\n",
       " 'r',\n",
       " 'est_d_tri',\n",
       " 'est_d_men',\n",
       " 't_loc_tri',\n",
       " 't_loc_men',\n",
       " 'd_sem',\n",
       " 'n_pro_viv',\n",
       " 'n_ent',\n",
       " 'n_ren',\n",
       " 'c_res',\n",
       " 'par_c',\n",
       " 'sex',\n",
       " 'eda',\n",
       " 'nac_dia',\n",
       " 'nac_mes',\n",
       " 'nac_anio',\n",
       " 'l_nac_c',\n",
       " 'cs_p12',\n",
       " 'cs_p13_1',\n",
       " 'cs_p13_2',\n",
       " 'cs_p14_c',\n",
       " 'cs_p15',\n",
       " 'cs_p16',\n",
       " 'cs_p17',\n",
       " 'n_hij',\n",
       " 'e_con',\n",
       " 'cs_p20a_1',\n",
       " 'cs_p20a_c',\n",
       " 'cs_p20b_1',\n",
       " 'cs_p20b_c',\n",
       " 'cs_p20c_1',\n",
       " 'cs_ad_mot',\n",
       " 'cs_p21_des',\n",
       " 'cs_ad_des',\n",
       " 'cs_nr_mot',\n",
       " 'cs_p23_des',\n",
       " 'cs_nr_ori',\n",
       " 'zona',\n",
       " 'salario',\n",
       " 'fac_tri',\n",
       " 'fac_men',\n",
       " 'clase1',\n",
       " 'clase2',\n",
       " 'clase3',\n",
       " 'pos_ocu',\n",
       " 'seg_soc',\n",
       " 'rama',\n",
       " 'c_ocu11c',\n",
       " 'ing7c',\n",
       " 'dur9c',\n",
       " 'emple7c',\n",
       " 'medica5c',\n",
       " 'buscar5c',\n",
       " 'rama_est1',\n",
       " 'rama_est2',\n",
       " 'dur_est',\n",
       " 'ambito1',\n",
       " 'ambito2',\n",
       " 'tue1',\n",
       " 'tue2',\n",
       " 'tue3',\n",
       " 'busqueda',\n",
       " 'd_ant_lab',\n",
       " 'd_cexp_est',\n",
       " 'dur_des',\n",
       " 'sub_o',\n",
       " 's_clasifi',\n",
       " 'remune2c',\n",
       " 'pre_asa',\n",
       " 'tip_con',\n",
       " 'dispo',\n",
       " 'nodispo',\n",
       " 'c_inac5c',\n",
       " 'pnea_est',\n",
       " 'niv_ins',\n",
       " 'eda5c',\n",
       " 'eda7c',\n",
       " 'eda12c',\n",
       " 'eda19c',\n",
       " 'hij5c',\n",
       " 'domestico',\n",
       " 'anios_esc',\n",
       " 'hrsocup',\n",
       " 'ingocup',\n",
       " 'ing_x_hrs',\n",
       " 'tpg_p8a',\n",
       " 'tcco',\n",
       " 'cp_anoc',\n",
       " 'imssissste',\n",
       " 'ma48me1sm',\n",
       " 'p14apoyos',\n",
       " 'scian',\n",
       " 't_tra',\n",
       " 'emp_ppal',\n",
       " 'tue_ppal',\n",
       " 'trans_ppal',\n",
       " 'mh_fil2',\n",
       " 'mh_col',\n",
       " 'sec_ins',\n",
       " 'mes_cal',\n",
       " 'p1a1',\n",
       " 'p1a2',\n",
       " 'p1a3',\n",
       " 'p1b',\n",
       " 'p1c',\n",
       " 'p1d',\n",
       " 'p1e',\n",
       " 'p2_1',\n",
       " 'p2_2',\n",
       " 'p2_3',\n",
       " 'p2_4',\n",
       " 'p2_9',\n",
       " 'p2a_dia',\n",
       " 'p2a_sem',\n",
       " 'p2a_mes',\n",
       " 'p2a_anio',\n",
       " 'p2b_dia',\n",
       " 'p2b_sem',\n",
       " 'p2b_mes',\n",
       " 'p2b_anio',\n",
       " 'p2b',\n",
       " 'p2c',\n",
       " 'p2d1',\n",
       " 'p2d2',\n",
       " 'p2d3',\n",
       " 'p2d4',\n",
       " 'p2d5',\n",
       " 'p2d6',\n",
       " 'p2d7',\n",
       " 'p2d8',\n",
       " 'p2d9',\n",
       " 'p2d10',\n",
       " 'p2d11',\n",
       " 'p2d99',\n",
       " 'p2e',\n",
       " 'p2f',\n",
       " 'p2g1',\n",
       " 'p2g2',\n",
       " 'p2h1',\n",
       " 'p2h2',\n",
       " 'p2h3',\n",
       " 'p2h4',\n",
       " 'p2h9',\n",
       " 'p2i',\n",
       " 'p2j',\n",
       " 'p2k_anio',\n",
       " 'p2k_mes',\n",
       " 'p2k',\n",
       " 'p3a',\n",
       " 'p3b',\n",
       " 'p3c1',\n",
       " 'p3c2',\n",
       " 'p3c3',\n",
       " 'p3c4',\n",
       " 'p3c9',\n",
       " 'p3d',\n",
       " 'p3e',\n",
       " 'p3f1',\n",
       " 'p3f2',\n",
       " 'p3g1_1',\n",
       " 'p3g1_2',\n",
       " 'p3g2_1',\n",
       " 'p3g2_2',\n",
       " 'p3g3_1',\n",
       " 'p3g3_2',\n",
       " 'p3g4_1',\n",
       " 'p3g4_2',\n",
       " 'p3g9',\n",
       " 'p3g_tot',\n",
       " 'p3h',\n",
       " 'p3i',\n",
       " 'p3j1',\n",
       " 'p3j2',\n",
       " 'p3k1',\n",
       " 'p3k2',\n",
       " 'p3k3',\n",
       " 'p3k4',\n",
       " 'p3k5',\n",
       " 'p3k9',\n",
       " 'p3l',\n",
       " 'p4',\n",
       " 'p4_3',\n",
       " 'p4a',\n",
       " 'p4a_1',\n",
       " 'p4b',\n",
       " 'p4c',\n",
       " 'p4d1',\n",
       " 'p4d2',\n",
       " 'p4d3',\n",
       " 'p4e',\n",
       " 'p4f',\n",
       " 'p4g',\n",
       " 'p4h',\n",
       " 'p4i',\n",
       " 'p4i_1',\n",
       " 'p5',\n",
       " 'p5a',\n",
       " 'p5b_hlu',\n",
       " 'p5b_mlu',\n",
       " 'p5b_hma',\n",
       " 'p5b_mma',\n",
       " 'p5b_hmi',\n",
       " 'p5b_mmi',\n",
       " 'p5b_hju',\n",
       " 'p5b_mju',\n",
       " 'p5b_hvi',\n",
       " 'p5b_mvi',\n",
       " 'p5b_hsa',\n",
       " 'p5b_msa',\n",
       " 'p5b_hdo',\n",
       " 'p5b_mdo',\n",
       " 'p5b_thrs',\n",
       " 'p5b_tdia',\n",
       " 'p5c',\n",
       " 'p5d1',\n",
       " 'p5d_hlu',\n",
       " 'p5d_mlu',\n",
       " 'p5d_hma',\n",
       " 'p5d_mma',\n",
       " 'p5d_hmi',\n",
       " 'p5d_mmi',\n",
       " 'p5d_hju',\n",
       " 'p5d_mju',\n",
       " 'p5d_hvi',\n",
       " 'p5d_mvi',\n",
       " 'p5d_hsa',\n",
       " 'p5d_msa',\n",
       " 'p5d_hdo',\n",
       " 'p5d_mdo',\n",
       " 'p5d_thrs',\n",
       " 'p5d_tdia',\n",
       " 'p5e',\n",
       " 'p5f1',\n",
       " 'p5f2',\n",
       " 'p5f3',\n",
       " 'p5f4',\n",
       " 'p5f5',\n",
       " 'p5f6',\n",
       " 'p5f7',\n",
       " 'p5f8',\n",
       " 'p5f9',\n",
       " 'p5f10',\n",
       " 'p5f11',\n",
       " 'p5f12',\n",
       " 'p5f13',\n",
       " 'p5f14',\n",
       " 'p5f15',\n",
       " 'p5f99',\n",
       " 'p6_1',\n",
       " 'p6_2',\n",
       " 'p6_3',\n",
       " 'p6_4',\n",
       " 'p6_5',\n",
       " 'p6_6',\n",
       " 'p6_7',\n",
       " 'p6_8',\n",
       " 'p6_9',\n",
       " 'p6_10',\n",
       " 'p6_99',\n",
       " 'p6a1',\n",
       " 'p6a2',\n",
       " 'p6a3',\n",
       " 'p6a4',\n",
       " 'p6a9',\n",
       " 'p6b1',\n",
       " 'p6b2',\n",
       " 'p6c',\n",
       " 'p6d',\n",
       " 'p6e',\n",
       " 'p6e_c',\n",
       " 'p6f',\n",
       " 'p6f_c',\n",
       " 'p6g',\n",
       " 'p6h',\n",
       " 'p6h_c',\n",
       " 'p6i',\n",
       " 'p6i_c',\n",
       " 'p7',\n",
       " 'p7a',\n",
       " 'p7b',\n",
       " 'p7c',\n",
       " 'p8_1',\n",
       " 'p8_2',\n",
       " 'p8_3',\n",
       " 'p8_4',\n",
       " 'p8_9',\n",
       " 'p8a',\n",
       " 'p9_1',\n",
       " 'p9_h1',\n",
       " 'p9_m1',\n",
       " 'p9_2',\n",
       " 'p9_h2',\n",
       " 'p9_m2',\n",
       " 'p9_3',\n",
       " 'p9_h3',\n",
       " 'p9_m3',\n",
       " 'p9_4',\n",
       " 'p9_h4',\n",
       " 'p9_m4',\n",
       " 'p9_5',\n",
       " 'p9_h5',\n",
       " 'p9_m5',\n",
       " 'p9_6',\n",
       " 'p9_h6',\n",
       " 'p9_m6',\n",
       " 'p9_7',\n",
       " 'p9_h7',\n",
       " 'p9_m7',\n",
       " 'p9_8',\n",
       " 'p9_h8',\n",
       " 'p9_m8']"
      ]
     },
     "execution_count": 16,
     "metadata": {},
     "output_type": "execute_result"
    }
   ],
   "source": [
    "# Se revisan las columnas para identificar que se encuentre completo el dataframe\n",
    "cols = [col for col in completat422.columns]\n",
    "cols"
   ]
  },
  {
   "cell_type": "markdown",
   "id": "ecbc4086-2730-41ed-b55c-375c3551a752",
   "metadata": {},
   "source": [
    "## Almacenamiento"
   ]
  },
  {
   "cell_type": "code",
   "execution_count": 32,
   "id": "38435f3b-f2d3-405e-ba01-ed4d861db16c",
   "metadata": {
    "tags": []
   },
   "outputs": [],
   "source": [
    "# Esta línea transforma y guarda el dataframe completat422 en un archivo csv de forma local\n",
    "completat422.to_csv(\"completat422.csv\", index = False)"
   ]
  }
 ],
 "metadata": {
  "kernelspec": {
   "display_name": "Python 3 (ipykernel)",
   "language": "python",
   "name": "python3"
  },
  "language_info": {
   "codemirror_mode": {
    "name": "ipython",
    "version": 3
   },
   "file_extension": ".py",
   "mimetype": "text/x-python",
   "name": "python",
   "nbconvert_exporter": "python",
   "pygments_lexer": "ipython3",
   "version": "3.11.5"
  }
 },
 "nbformat": 4,
 "nbformat_minor": 5
}
